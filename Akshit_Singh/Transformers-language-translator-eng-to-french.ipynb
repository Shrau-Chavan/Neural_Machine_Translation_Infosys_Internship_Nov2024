{
 "cells": [
  {
   "cell_type": "markdown",
   "id": "cbc488ac",
   "metadata": {
    "papermill": {
     "duration": 0.008372,
     "end_time": "2024-12-03T14:33:33.091712",
     "exception": false,
     "start_time": "2024-12-03T14:33:33.083340",
     "status": "completed"
    },
    "tags": []
   },
   "source": [
    "# Language Translator \n",
    "By Akshit Singh"
   ]
  },
  {
   "cell_type": "markdown",
   "id": "0c43efa4",
   "metadata": {
    "papermill": {
     "duration": 0.008265,
     "end_time": "2024-12-03T14:33:33.120765",
     "exception": false,
     "start_time": "2024-12-03T14:33:33.112500",
     "status": "completed"
    },
    "tags": []
   },
   "source": [
    "### Sequence-to-sequence learning"
   ]
  },
  {
   "cell_type": "code",
   "execution_count": 1,
   "id": "5620ce61",
   "metadata": {
    "execution": {
     "iopub.execute_input": "2024-12-03T14:33:33.135975Z",
     "iopub.status.busy": "2024-12-03T14:33:33.135679Z",
     "iopub.status.idle": "2024-12-03T14:33:40.246925Z",
     "shell.execute_reply": "2024-12-03T14:33:40.245971Z"
    },
    "papermill": {
     "duration": 7.121561,
     "end_time": "2024-12-03T14:33:40.249269",
     "exception": false,
     "start_time": "2024-12-03T14:33:33.127708",
     "status": "completed"
    },
    "tags": []
   },
   "outputs": [],
   "source": [
    "import pathlib\n",
    "import random\n",
    "import string\n",
    "import re\n",
    "import numpy as np\n",
    "import matplotlib.pyplot as plt\n",
    "%matplotlib inline\n",
    "\n",
    "import tensorflow as tf\n",
    "from tensorflow import keras\n",
    "from tensorflow.keras import layers\n",
    "from tensorflow.keras.layers import TextVectorization\n",
    "from tensorflow.keras.layers import Bidirectional,GRU,LSTM,Embedding\n",
    "from tensorflow.keras.layers import Dense,MultiHeadAttention,LayerNormalization,Embedding,Dropout,Layer\n",
    "from tensorflow.keras import Sequential,Input\n",
    "from tensorflow.keras.callbacks import ModelCheckpoint\n",
    "\n",
    "from nltk.translate.bleu_score import sentence_bleu"
   ]
  },
  {
   "cell_type": "code",
   "execution_count": 2,
   "id": "01305542",
   "metadata": {
    "execution": {
     "iopub.execute_input": "2024-12-03T14:33:40.265490Z",
     "iopub.status.busy": "2024-12-03T14:33:40.264962Z",
     "iopub.status.idle": "2024-12-03T14:33:40.269087Z",
     "shell.execute_reply": "2024-12-03T14:33:40.268383Z"
    },
    "papermill": {
     "duration": 0.013935,
     "end_time": "2024-12-03T14:33:40.270749",
     "exception": false,
     "start_time": "2024-12-03T14:33:40.256814",
     "status": "completed"
    },
    "tags": []
   },
   "outputs": [],
   "source": [
    "# text_file = keras.utils.get_file(\n",
    "#     fname=\"fra-eng.zip\",\n",
    "#     origin=\"http://storage.googleapis.com/download.tensorflow.org/data/fra-eng.zip\",\n",
    "#     extract=True,\n",
    "# )\n",
    "# print(text_file)\n",
    "# text_file = pathlib.Path(text_file).parent / \"fra.txt\"\n",
    "text_file = '/kaggle/input/french/fra.txt'"
   ]
  },
  {
   "cell_type": "markdown",
   "id": "9530e04c",
   "metadata": {
    "papermill": {
     "duration": 0.006769,
     "end_time": "2024-12-03T14:33:40.284556",
     "exception": false,
     "start_time": "2024-12-03T14:33:40.277787",
     "status": "completed"
    },
    "tags": []
   },
   "source": [
    "Each line contains an English sentence and its corresponding France sentence. The English sentence is the source sequence and France one is the target sequence. We prepend the token \"[start]\" and we append the token \"[end]\" to the France sentence."
   ]
  },
  {
   "cell_type": "code",
   "execution_count": 3,
   "id": "b1bfb816",
   "metadata": {
    "execution": {
     "iopub.execute_input": "2024-12-03T14:33:40.299427Z",
     "iopub.status.busy": "2024-12-03T14:33:40.299204Z",
     "iopub.status.idle": "2024-12-03T14:33:40.666328Z",
     "shell.execute_reply": "2024-12-03T14:33:40.665301Z"
    },
    "papermill": {
     "duration": 0.377113,
     "end_time": "2024-12-03T14:33:40.668535",
     "exception": false,
     "start_time": "2024-12-03T14:33:40.291422",
     "status": "completed"
    },
    "tags": []
   },
   "outputs": [],
   "source": [
    "with open(text_file) as f:\n",
    "    lines = f.read().split(\"\\n\")[:-1]\n",
    "text_pairs = []\n",
    "for line in lines:\n",
    "    english, french = line.split(\"\\t\")\n",
    "    french = \"[start] \" + french + \" [end]\"\n",
    "    text_pairs.append((english, french))"
   ]
  },
  {
   "cell_type": "markdown",
   "id": "00b35ba0",
   "metadata": {
    "papermill": {
     "duration": 0.006837,
     "end_time": "2024-12-03T14:33:40.682899",
     "exception": false,
     "start_time": "2024-12-03T14:33:40.676062",
     "status": "completed"
    },
    "tags": []
   },
   "source": [
    "### Printing random English - French text pair"
   ]
  },
  {
   "cell_type": "code",
   "execution_count": 4,
   "id": "1a9cff30",
   "metadata": {
    "execution": {
     "iopub.execute_input": "2024-12-03T14:33:40.698209Z",
     "iopub.status.busy": "2024-12-03T14:33:40.697901Z",
     "iopub.status.idle": "2024-12-03T14:33:40.702666Z",
     "shell.execute_reply": "2024-12-03T14:33:40.701804Z"
    },
    "papermill": {
     "duration": 0.014658,
     "end_time": "2024-12-03T14:33:40.704554",
     "exception": false,
     "start_time": "2024-12-03T14:33:40.689896",
     "status": "completed"
    },
    "tags": []
   },
   "outputs": [
    {
     "name": "stdout",
     "output_type": "stream",
     "text": [
      "('When we entered the shack, we saw a half-eaten pie on the table.', '[start] En entrant dans la cabane, nous vîmes une tarte à moitié mangée sur la table. [end]')\n"
     ]
    }
   ],
   "source": [
    "import random\n",
    "print(random.choice(text_pairs))"
   ]
  },
  {
   "cell_type": "code",
   "execution_count": 5,
   "id": "e757c9bc",
   "metadata": {
    "execution": {
     "iopub.execute_input": "2024-12-03T14:33:40.719611Z",
     "iopub.status.busy": "2024-12-03T14:33:40.719322Z",
     "iopub.status.idle": "2024-12-03T14:33:40.834674Z",
     "shell.execute_reply": "2024-12-03T14:33:40.833971Z"
    },
    "papermill": {
     "duration": 0.124896,
     "end_time": "2024-12-03T14:33:40.836440",
     "exception": false,
     "start_time": "2024-12-03T14:33:40.711544",
     "status": "completed"
    },
    "tags": []
   },
   "outputs": [],
   "source": [
    "import random\n",
    "random.shuffle(text_pairs)\n",
    "num_val_samples = int(0.15 * len(text_pairs))\n",
    "num_train_samples = len(text_pairs) - 2 * num_val_samples\n",
    "train_pairs = text_pairs[:num_train_samples]\n",
    "val_pairs = text_pairs[num_train_samples:num_train_samples + num_val_samples]\n",
    "test_pairs = text_pairs[num_train_samples + num_val_samples:]"
   ]
  },
  {
   "cell_type": "markdown",
   "id": "68e30d5a",
   "metadata": {
    "papermill": {
     "duration": 0.006957,
     "end_time": "2024-12-03T14:33:40.850261",
     "exception": false,
     "start_time": "2024-12-03T14:33:40.843304",
     "status": "completed"
    },
    "tags": []
   },
   "source": [
    "**Text Cleaning**"
   ]
  },
  {
   "cell_type": "code",
   "execution_count": 6,
   "id": "92be8490",
   "metadata": {
    "execution": {
     "iopub.execute_input": "2024-12-03T14:33:40.865465Z",
     "iopub.status.busy": "2024-12-03T14:33:40.865219Z",
     "iopub.status.idle": "2024-12-03T14:33:40.869276Z",
     "shell.execute_reply": "2024-12-03T14:33:40.868617Z"
    },
    "papermill": {
     "duration": 0.013498,
     "end_time": "2024-12-03T14:33:40.870835",
     "exception": false,
     "start_time": "2024-12-03T14:33:40.857337",
     "status": "completed"
    },
    "tags": []
   },
   "outputs": [],
   "source": [
    "strip_chars = string.punctuation + \"¿\"\n",
    "strip_chars = strip_chars.replace(\"[\", \"\")\n",
    "strip_chars = strip_chars.replace(\"]\", \"\")"
   ]
  },
  {
   "cell_type": "markdown",
   "id": "4545f497",
   "metadata": {
    "papermill": {
     "duration": 0.006898,
     "end_time": "2024-12-03T14:33:40.884912",
     "exception": false,
     "start_time": "2024-12-03T14:33:40.878014",
     "status": "completed"
    },
    "tags": []
   },
   "source": [
    "**Text Standardization**\n",
    "* Convert Text to lowercase"
   ]
  },
  {
   "cell_type": "code",
   "execution_count": 7,
   "id": "9a64931d",
   "metadata": {
    "execution": {
     "iopub.execute_input": "2024-12-03T14:33:40.899896Z",
     "iopub.status.busy": "2024-12-03T14:33:40.899641Z",
     "iopub.status.idle": "2024-12-03T14:33:40.904141Z",
     "shell.execute_reply": "2024-12-03T14:33:40.903240Z"
    },
    "papermill": {
     "duration": 0.014314,
     "end_time": "2024-12-03T14:33:40.906075",
     "exception": false,
     "start_time": "2024-12-03T14:33:40.891761",
     "status": "completed"
    },
    "tags": []
   },
   "outputs": [],
   "source": [
    "def custom_standardization(input_string):\n",
    "    lowercase = tf.strings.lower(input_string)\n",
    "    return tf.strings.regex_replace(\n",
    "        lowercase, f\"[{re.escape(strip_chars)}]\", \"\")"
   ]
  },
  {
   "cell_type": "code",
   "execution_count": 8,
   "id": "bb843f34",
   "metadata": {
    "execution": {
     "iopub.execute_input": "2024-12-03T14:33:40.934806Z",
     "iopub.status.busy": "2024-12-03T14:33:40.934490Z",
     "iopub.status.idle": "2024-12-03T14:33:55.815342Z",
     "shell.execute_reply": "2024-12-03T14:33:55.814520Z"
    },
    "papermill": {
     "duration": 14.890934,
     "end_time": "2024-12-03T14:33:55.817704",
     "exception": false,
     "start_time": "2024-12-03T14:33:40.926770",
     "status": "completed"
    },
    "tags": []
   },
   "outputs": [],
   "source": [
    "vocab_size = 15000\n",
    "sequence_length = 20\n",
    "\n",
    "source_vectorization = TextVectorization(\n",
    "    max_tokens=vocab_size,\n",
    "    output_mode=\"int\",\n",
    "    output_sequence_length=sequence_length,\n",
    ")\n",
    "target_vectorization = TextVectorization(\n",
    "    max_tokens=vocab_size,\n",
    "    output_mode=\"int\",\n",
    "    output_sequence_length=sequence_length + 1,\n",
    "    standardize=custom_standardization,\n",
    ")\n",
    "train_english_texts = [pair[0] for pair in train_pairs]\n",
    "train_french_texts = [pair[1] for pair in train_pairs]\n",
    "source_vectorization.adapt(train_english_texts)\n",
    "target_vectorization.adapt(train_french_texts)"
   ]
  },
  {
   "cell_type": "code",
   "execution_count": 9,
   "id": "8f3a8b3d",
   "metadata": {
    "execution": {
     "iopub.execute_input": "2024-12-03T14:33:55.834013Z",
     "iopub.status.busy": "2024-12-03T14:33:55.833746Z",
     "iopub.status.idle": "2024-12-03T14:33:55.837417Z",
     "shell.execute_reply": "2024-12-03T14:33:55.836633Z"
    },
    "papermill": {
     "duration": 0.013907,
     "end_time": "2024-12-03T14:33:55.839167",
     "exception": false,
     "start_time": "2024-12-03T14:33:55.825260",
     "status": "completed"
    },
    "tags": []
   },
   "outputs": [],
   "source": [
    "# # detect and init the TPU\n",
    "# tpu = tf.distribute.cluster_resolver.TPUClusterResolver.connect()\n",
    "# # instantiate a distribution strategy\n",
    "# tpu_strategy = tf.distribute.TPUStrategy(tpu)\n",
    "# # batch_size\n",
    "# batch_size = 8 * tpu_strategy.num_replicas_in_sync"
   ]
  },
  {
   "cell_type": "code",
   "execution_count": 10,
   "id": "2392bbb5",
   "metadata": {
    "execution": {
     "iopub.execute_input": "2024-12-03T14:33:55.854019Z",
     "iopub.status.busy": "2024-12-03T14:33:55.853778Z",
     "iopub.status.idle": "2024-12-03T14:33:55.858628Z",
     "shell.execute_reply": "2024-12-03T14:33:55.857861Z"
    },
    "papermill": {
     "duration": 0.014211,
     "end_time": "2024-12-03T14:33:55.860416",
     "exception": false,
     "start_time": "2024-12-03T14:33:55.846205",
     "status": "completed"
    },
    "tags": []
   },
   "outputs": [
    {
     "name": "stdout",
     "output_type": "stream",
     "text": [
      "GPUs Available:  [PhysicalDevice(name='/physical_device:GPU:0', device_type='GPU'), PhysicalDevice(name='/physical_device:GPU:1', device_type='GPU')]\n",
      "Number of GPUs: 2\n"
     ]
    }
   ],
   "source": [
    "import tensorflow as tf\n",
    "\n",
    "gpus = tf.config.list_physical_devices('GPU')\n",
    "print(\"GPUs Available: \", gpus)\n",
    "\n",
    "if len(gpus) > 1:\n",
    "    print(f\"Number of GPUs: {len(gpus)}\")\n",
    "else:\n",
    "    print(\"Less than 2 GPUs detected.\")"
   ]
  },
  {
   "cell_type": "code",
   "execution_count": 11,
   "id": "b3b4121c",
   "metadata": {
    "execution": {
     "iopub.execute_input": "2024-12-03T14:33:55.875529Z",
     "iopub.status.busy": "2024-12-03T14:33:55.875252Z",
     "iopub.status.idle": "2024-12-03T14:33:56.218927Z",
     "shell.execute_reply": "2024-12-03T14:33:56.217904Z"
    },
    "papermill": {
     "duration": 0.353143,
     "end_time": "2024-12-03T14:33:56.220759",
     "exception": false,
     "start_time": "2024-12-03T14:33:55.867616",
     "status": "completed"
    },
    "tags": []
   },
   "outputs": [
    {
     "name": "stdout",
     "output_type": "stream",
     "text": [
      "Number of devices in strategy: 2\n"
     ]
    }
   ],
   "source": [
    "strategy = tf.distribute.MirroredStrategy()\n",
    "\n",
    "print(\"Number of devices in strategy:\", strategy.num_replicas_in_sync)\n"
   ]
  },
  {
   "cell_type": "code",
   "execution_count": 12,
   "id": "a5a46d14",
   "metadata": {
    "execution": {
     "iopub.execute_input": "2024-12-03T14:33:56.236639Z",
     "iopub.status.busy": "2024-12-03T14:33:56.236339Z",
     "iopub.status.idle": "2024-12-03T14:33:56.240447Z",
     "shell.execute_reply": "2024-12-03T14:33:56.239742Z"
    },
    "papermill": {
     "duration": 0.013962,
     "end_time": "2024-12-03T14:33:56.242139",
     "exception": false,
     "start_time": "2024-12-03T14:33:56.228177",
     "status": "completed"
    },
    "tags": []
   },
   "outputs": [],
   "source": [
    "batch_size = 64"
   ]
  },
  {
   "cell_type": "code",
   "execution_count": 13,
   "id": "e85cf561",
   "metadata": {
    "execution": {
     "iopub.execute_input": "2024-12-03T14:33:56.257815Z",
     "iopub.status.busy": "2024-12-03T14:33:56.257520Z",
     "iopub.status.idle": "2024-12-03T14:33:56.262149Z",
     "shell.execute_reply": "2024-12-03T14:33:56.261222Z"
    },
    "papermill": {
     "duration": 0.01458,
     "end_time": "2024-12-03T14:33:56.263932",
     "exception": false,
     "start_time": "2024-12-03T14:33:56.249352",
     "status": "completed"
    },
    "tags": []
   },
   "outputs": [
    {
     "name": "stdout",
     "output_type": "stream",
     "text": [
      "Batch size: 64\n"
     ]
    }
   ],
   "source": [
    "print(f\"Batch size: {batch_size}\")"
   ]
  },
  {
   "cell_type": "markdown",
   "id": "d329695a",
   "metadata": {
    "papermill": {
     "duration": 0.006989,
     "end_time": "2024-12-03T14:33:56.278185",
     "exception": false,
     "start_time": "2024-12-03T14:33:56.271196",
     "status": "completed"
    },
    "tags": []
   },
   "source": [
    "**Preparing datasets for the translation task**"
   ]
  },
  {
   "cell_type": "code",
   "execution_count": 14,
   "id": "d623e657",
   "metadata": {
    "execution": {
     "iopub.execute_input": "2024-12-03T14:33:56.293492Z",
     "iopub.status.busy": "2024-12-03T14:33:56.293055Z",
     "iopub.status.idle": "2024-12-03T14:33:57.500548Z",
     "shell.execute_reply": "2024-12-03T14:33:57.499836Z"
    },
    "papermill": {
     "duration": 1.217397,
     "end_time": "2024-12-03T14:33:57.502609",
     "exception": false,
     "start_time": "2024-12-03T14:33:56.285212",
     "status": "completed"
    },
    "tags": []
   },
   "outputs": [],
   "source": [
    "\n",
    "\n",
    "def format_dataset(eng, fre):\n",
    "    eng = source_vectorization(eng)\n",
    "    fre = target_vectorization(fre)\n",
    "    return ({\n",
    "        \"english\": eng,\n",
    "        \"french\": fre[:, :-1],\n",
    "    }, fre[:, 1:])\n",
    "\n",
    "def make_dataset(pairs):\n",
    "    eng_texts, fre_texts = zip(*pairs)\n",
    "    eng_texts = list(eng_texts)\n",
    "    fre_texts = list(fre_texts)\n",
    "    dataset = tf.data.Dataset.from_tensor_slices((eng_texts, fre_texts))\n",
    "    dataset = dataset.batch(batch_size)\n",
    "    dataset = dataset.map(format_dataset, num_parallel_calls=4)\n",
    "    return dataset.shuffle(2048).prefetch(16).cache()\n",
    "\n",
    "train_ds = make_dataset(train_pairs)\n",
    "val_ds = make_dataset(val_pairs)"
   ]
  },
  {
   "cell_type": "code",
   "execution_count": 15,
   "id": "563cd3c3",
   "metadata": {
    "execution": {
     "iopub.execute_input": "2024-12-03T14:33:57.519322Z",
     "iopub.status.busy": "2024-12-03T14:33:57.518839Z",
     "iopub.status.idle": "2024-12-03T14:33:57.526355Z",
     "shell.execute_reply": "2024-12-03T14:33:57.525300Z"
    },
    "papermill": {
     "duration": 0.017544,
     "end_time": "2024-12-03T14:33:57.528168",
     "exception": false,
     "start_time": "2024-12-03T14:33:57.510624",
     "status": "completed"
    },
    "tags": []
   },
   "outputs": [
    {
     "data": {
      "text/plain": [
       "<CacheDataset shapes: ({english: (None, 20), french: (None, 20)}, (None, 20)), types: ({english: tf.int64, french: tf.int64}, tf.int64)>"
      ]
     },
     "execution_count": 15,
     "metadata": {},
     "output_type": "execute_result"
    }
   ],
   "source": [
    "train_ds"
   ]
  },
  {
   "cell_type": "code",
   "execution_count": 16,
   "id": "e56dda77",
   "metadata": {
    "execution": {
     "iopub.execute_input": "2024-12-03T14:33:57.543809Z",
     "iopub.status.busy": "2024-12-03T14:33:57.543518Z",
     "iopub.status.idle": "2024-12-03T14:33:58.098547Z",
     "shell.execute_reply": "2024-12-03T14:33:58.097473Z"
    },
    "papermill": {
     "duration": 0.565027,
     "end_time": "2024-12-03T14:33:58.100410",
     "exception": false,
     "start_time": "2024-12-03T14:33:57.535383",
     "status": "completed"
    },
    "tags": []
   },
   "outputs": [
    {
     "name": "stdout",
     "output_type": "stream",
     "text": [
      "english [[ 138 2163   37 ...    0    0    0]\n",
      " [  10   91   28 ...    0    0    0]\n",
      " [   7  425 1429 ...    0    0    0]\n",
      " ...\n",
      " [   5  318  905 ...    0    0    0]\n",
      " [ 209  206    4 ...    0    0    0]\n",
      " [ 539   20  110 ...    0    0    0]],\n",
      "\n",
      "\n",
      " inputs['english'].shape: (64, 20)\n",
      "french [[    2    85     5 ...     0     0     0]\n",
      " [    2    13   123 ...     0     0     0]\n",
      " [    2 14761  3569 ...     0     0     0]\n",
      " ...\n",
      " [    2    13    49 ...     0     0     0]\n",
      " [    2    13   153 ...     0     0     0]\n",
      " [    2    74    15 ...     0     0     0]],\n",
      "\n",
      "\n",
      " inputs['french'].shape: (64, 20)\n",
      "targets [[   85     5   191 ...     0     0     0]\n",
      " [   13   123     6 ...     0     0     0]\n",
      " [14761  3569  1002 ...     0     0     0]\n",
      " ...\n",
      " [   13    49    18 ...     0     0     0]\n",
      " [   13   153    18 ...     0     0     0]\n",
      " [   74    15    38 ...     0     0     0]], \n",
      "\n",
      "\n",
      " targets.shape: (64, 20)\n"
     ]
    }
   ],
   "source": [
    "for inputs, targets in train_ds.take(1):\n",
    "    print(f\"english {inputs['english']},\\n\\n\\n inputs['english'].shape: {inputs['english'].shape}\")\n",
    "    print(f\"french {inputs['french']},\\n\\n\\n inputs['french'].shape: {inputs['french'].shape}\")\n",
    "    print(f\"targets {targets}, \\n\\n\\n targets.shape: {targets.shape}\")"
   ]
  },
  {
   "cell_type": "markdown",
   "id": "a17247e9",
   "metadata": {
    "papermill": {
     "duration": 0.007096,
     "end_time": "2024-12-03T14:33:58.115199",
     "exception": false,
     "start_time": "2024-12-03T14:33:58.108103",
     "status": "completed"
    },
    "tags": []
   },
   "source": [
    "### Sequence-to-sequence learning with Transformer"
   ]
  },
  {
   "cell_type": "markdown",
   "id": "d7cf20ac",
   "metadata": {
    "papermill": {
     "duration": 0.007214,
     "end_time": "2024-12-03T14:33:58.129695",
     "exception": false,
     "start_time": "2024-12-03T14:33:58.122481",
     "status": "completed"
    },
    "tags": []
   },
   "source": [
    "### A Transformer for machine translation"
   ]
  },
  {
   "cell_type": "markdown",
   "id": "2f480001",
   "metadata": {
    "papermill": {
     "duration": 0.006941,
     "end_time": "2024-12-03T14:33:58.143978",
     "exception": false,
     "start_time": "2024-12-03T14:33:58.137037",
     "status": "completed"
    },
    "tags": []
   },
   "source": [
    "## Transformer Encoder"
   ]
  },
  {
   "cell_type": "code",
   "execution_count": 17,
   "id": "8b4498ef",
   "metadata": {
    "execution": {
     "iopub.execute_input": "2024-12-03T14:33:58.159853Z",
     "iopub.status.busy": "2024-12-03T14:33:58.159522Z",
     "iopub.status.idle": "2024-12-03T14:33:58.168084Z",
     "shell.execute_reply": "2024-12-03T14:33:58.167392Z"
    },
    "papermill": {
     "duration": 0.018368,
     "end_time": "2024-12-03T14:33:58.169679",
     "exception": false,
     "start_time": "2024-12-03T14:33:58.151311",
     "status": "completed"
    },
    "tags": []
   },
   "outputs": [],
   "source": [
    "class TransformerEncoder(Layer):\n",
    "    def __init__(self, embed_dim, dense_dim, num_heads, **kwargs):\n",
    "        super(TransformerEncoder, self).__init__(**kwargs)\n",
    "        self.embed_dim = embed_dim\n",
    "        self.dense_dim = dense_dim\n",
    "        self.num_heads = num_heads\n",
    "        self.attention = MultiHeadAttention(\n",
    "            num_heads=num_heads, key_dim=embed_dim\n",
    "        )\n",
    "        self.dense_proj = Sequential(\n",
    "            [Dense(dense_dim, activation=\"relu\"), Dense(embed_dim),]\n",
    "        )\n",
    "        self.layernorm_1 = LayerNormalization()\n",
    "        self.layernorm_2 = LayerNormalization()\n",
    "        self.supports_masking = True\n",
    "\n",
    "    def call(self, inputs, mask=None):\n",
    "        if mask is not None:\n",
    "            padding_mask = tf.cast(mask[:, tf.newaxis, tf.newaxis, :], dtype=\"int32\")\n",
    "        attention_output = self.attention(\n",
    "            query=inputs, value=inputs, key=inputs, attention_mask=padding_mask\n",
    "        )\n",
    "        \n",
    "        proj_input = self.layernorm_1(inputs + attention_output)\n",
    "        proj_output = self.dense_proj(proj_input)\n",
    "        return self.layernorm_2(proj_input + proj_output)\n",
    "    def get_config(self):\n",
    "        config = super().get_config()\n",
    "        config.update({\n",
    "            \"embed_dim\": self.embed_dim,\n",
    "            \"dense_dim\": self.dense_dim,\n",
    "            \"num_heads\": self.num_heads,\n",
    "        })\n",
    "        return config"
   ]
  },
  {
   "cell_type": "markdown",
   "id": "a6fa0b1f",
   "metadata": {
    "papermill": {
     "duration": 0.007083,
     "end_time": "2024-12-03T14:33:58.184217",
     "exception": false,
     "start_time": "2024-12-03T14:33:58.177134",
     "status": "completed"
    },
    "tags": []
   },
   "source": [
    "#### The Transformer decoder"
   ]
  },
  {
   "cell_type": "code",
   "execution_count": 18,
   "id": "8c7f8856",
   "metadata": {
    "execution": {
     "iopub.execute_input": "2024-12-03T14:33:58.200181Z",
     "iopub.status.busy": "2024-12-03T14:33:58.199924Z",
     "iopub.status.idle": "2024-12-03T14:33:58.211468Z",
     "shell.execute_reply": "2024-12-03T14:33:58.210869Z"
    },
    "papermill": {
     "duration": 0.021484,
     "end_time": "2024-12-03T14:33:58.213151",
     "exception": false,
     "start_time": "2024-12-03T14:33:58.191667",
     "status": "completed"
    },
    "tags": []
   },
   "outputs": [],
   "source": [
    "class TransformerDecoder(Layer):\n",
    "    def __init__(self, embed_dim, dense_dim, num_heads, **kwargs):\n",
    "        super().__init__(**kwargs)\n",
    "        self.embed_dim = embed_dim\n",
    "        self.dense_dim = dense_dim\n",
    "        self.num_heads = num_heads\n",
    "        self.attention_1 = MultiHeadAttention(\n",
    "            num_heads=num_heads, key_dim=embed_dim)\n",
    "        self.attention_2 = MultiHeadAttention(\n",
    "            num_heads=num_heads, key_dim=embed_dim)\n",
    "        self.dense_proj = keras.Sequential(\n",
    "            [Dense(dense_dim, activation=\"relu\"),\n",
    "             Dense(embed_dim),]\n",
    "        )\n",
    "        self.layernorm_1 = LayerNormalization()\n",
    "        self.layernorm_2 = LayerNormalization()\n",
    "        self.layernorm_3 = LayerNormalization()\n",
    "        self.supports_masking = True\n",
    "\n",
    "    def get_config(self):\n",
    "        config = super().get_config()\n",
    "        config.update({\n",
    "            \"embed_dim\": self.embed_dim,\n",
    "            \"num_heads\": self.num_heads,\n",
    "            \"dense_dim\": self.dense_dim,\n",
    "        })\n",
    "        return config\n",
    "\n",
    "    def get_causal_attention_mask(self, inputs):\n",
    "        input_shape = tf.shape(inputs)\n",
    "        batch_size, sequence_length = input_shape[0], input_shape[1]\n",
    "        i = tf.range(sequence_length)[:, tf.newaxis]\n",
    "        j = tf.range(sequence_length)\n",
    "        mask = tf.cast(i >= j, dtype=\"int32\")\n",
    "        mask = tf.reshape(mask, (1, input_shape[1], input_shape[1]))\n",
    "        mult = tf.concat(\n",
    "            [tf.expand_dims(batch_size, -1),\n",
    "             tf.constant([1, 1], dtype=tf.int32)], axis=0)\n",
    "        return tf.tile(mask, mult)\n",
    "\n",
    "    def call(self, inputs, encoder_outputs, mask=None):\n",
    "        causal_mask = self.get_causal_attention_mask(inputs)\n",
    "        if mask is not None:\n",
    "            padding_mask = tf.cast(\n",
    "                mask[:, tf.newaxis, :], dtype=\"int32\")\n",
    "            padding_mask = tf.minimum(padding_mask, causal_mask)\n",
    "        attention_output_1 = self.attention_1(\n",
    "            query=inputs,\n",
    "            value=inputs,\n",
    "            key=inputs,\n",
    "            attention_mask=causal_mask)\n",
    "        attention_output_1 = self.layernorm_1(inputs + attention_output_1)\n",
    "        attention_output_2 = self.attention_2(\n",
    "            query=attention_output_1,\n",
    "            value=encoder_outputs,\n",
    "            key=encoder_outputs,\n",
    "            attention_mask=padding_mask,\n",
    "        )\n",
    "        attention_output_2 = self.layernorm_2(\n",
    "            attention_output_1 + attention_output_2)\n",
    "        proj_output = self.dense_proj(attention_output_2)\n",
    "        return self.layernorm_3(attention_output_2 + proj_output)"
   ]
  },
  {
   "cell_type": "markdown",
   "id": "6f5b9eb4",
   "metadata": {
    "papermill": {
     "duration": 0.007088,
     "end_time": "2024-12-03T14:33:58.227530",
     "exception": false,
     "start_time": "2024-12-03T14:33:58.220442",
     "status": "completed"
    },
    "tags": []
   },
   "source": [
    "### **Positional Embedding layer**"
   ]
  },
  {
   "cell_type": "code",
   "execution_count": 19,
   "id": "fc2720e0",
   "metadata": {
    "execution": {
     "iopub.execute_input": "2024-12-03T14:33:58.243127Z",
     "iopub.status.busy": "2024-12-03T14:33:58.242911Z",
     "iopub.status.idle": "2024-12-03T14:33:58.251832Z",
     "shell.execute_reply": "2024-12-03T14:33:58.250959Z"
    },
    "papermill": {
     "duration": 0.018713,
     "end_time": "2024-12-03T14:33:58.253496",
     "exception": false,
     "start_time": "2024-12-03T14:33:58.234783",
     "status": "completed"
    },
    "tags": []
   },
   "outputs": [],
   "source": [
    "class PositionalEmbedding(Layer):\n",
    "    def __init__(self, sequence_length, input_dim, output_dim, **kwargs):\n",
    "        super().__init__(**kwargs)\n",
    "        self.token_embeddings = Embedding(\n",
    "            input_dim=input_dim, output_dim=output_dim)\n",
    "        print(input_dim,output_dim)\n",
    "        #intermediate = self.getPositionEncoding(seq_len=input_dim,d=vocab_size,n=output_dim)\n",
    "        self.position_embeddings = Embedding(input_dim=input_dim, output_dim=output_dim)\n",
    "        self.sequence_length = sequence_length\n",
    "        self.input_dim = input_dim\n",
    "        self.output_dim = output_dim\n",
    "\n",
    "    def getPositionEncoding(self,seq_len, d, n = sequence_length):\n",
    "        P = np.zeros((seq_len, d))\n",
    "        for k in range(seq_len):\n",
    "            for i in np.arange(int(d/2)):\n",
    "                denominator = np.power(n, 2*i/d)\n",
    "                P[k, 2*i] = np.sin(k/denominator)\n",
    "                P[k, 2*i+1] = np.cos(k/denominator)\n",
    "        tensor = tf.convert_to_tensor(P)\n",
    "        print(tensor.shape)\n",
    "        return tensor\n",
    "    \n",
    "    def call(self, inputs):\n",
    "        length = tf.shape(inputs)[-1]\n",
    "        positions = tf.range(start=0, limit=length, delta=1)\n",
    "        embedded_tokens = self.token_embeddings(inputs)\n",
    "        embedded_positions = self.position_embeddings(positions)\n",
    "        return embedded_tokens + embedded_positions\n",
    "\n",
    "    def compute_mask(self, inputs, mask=None):\n",
    "        return tf.math.not_equal(inputs, 0)\n",
    "\n",
    "    def get_config(self):\n",
    "        config = super(PositionalEmbedding, self).get_config()\n",
    "        config.update({\n",
    "            \"output_dim\": self.output_dim,\n",
    "            \"sequence_length\": self.sequence_length,\n",
    "            \"input_dim\": self.input_dim,\n",
    "        })\n",
    "        return config"
   ]
  },
  {
   "cell_type": "code",
   "execution_count": null,
   "id": "ce755562",
   "metadata": {
    "papermill": {
     "duration": 0.007513,
     "end_time": "2024-12-03T14:33:58.268388",
     "exception": false,
     "start_time": "2024-12-03T14:33:58.260875",
     "status": "completed"
    },
    "tags": []
   },
   "outputs": [],
   "source": []
  },
  {
   "cell_type": "markdown",
   "id": "a8db367b",
   "metadata": {
    "papermill": {
     "duration": 0.007187,
     "end_time": "2024-12-03T14:33:58.283005",
     "exception": false,
     "start_time": "2024-12-03T14:33:58.275818",
     "status": "completed"
    },
    "tags": []
   },
   "source": [
    "**End-to-end Transformer**"
   ]
  },
  {
   "cell_type": "code",
   "execution_count": 20,
   "id": "300be3dc",
   "metadata": {
    "execution": {
     "iopub.execute_input": "2024-12-03T14:33:58.299041Z",
     "iopub.status.busy": "2024-12-03T14:33:58.298825Z",
     "iopub.status.idle": "2024-12-03T14:33:59.011644Z",
     "shell.execute_reply": "2024-12-03T14:33:59.010988Z"
    },
    "papermill": {
     "duration": 0.723077,
     "end_time": "2024-12-03T14:33:59.013545",
     "exception": false,
     "start_time": "2024-12-03T14:33:58.290468",
     "status": "completed"
    },
    "tags": []
   },
   "outputs": [
    {
     "name": "stdout",
     "output_type": "stream",
     "text": [
      "15000 256\n",
      "15000 256\n"
     ]
    }
   ],
   "source": [
    "embed_dim = 256\n",
    "dense_dim = 2048\n",
    "num_heads = 8\n",
    "\n",
    "with strategy.scope():\n",
    "\n",
    "    encoder_inputs = keras.Input(shape=(None,), dtype=\"int64\", name=\"english\")\n",
    "    x = PositionalEmbedding(sequence_length, vocab_size, embed_dim)(encoder_inputs)\n",
    "    encoder_outputs = TransformerEncoder(embed_dim, dense_dim, num_heads)(x)\n",
    "    \n",
    "    decoder_inputs = keras.Input(shape=(None,), dtype=\"int64\", name=\"french\")\n",
    "    x = PositionalEmbedding(sequence_length, vocab_size, embed_dim)(decoder_inputs)\n",
    "    x = TransformerDecoder(embed_dim, dense_dim, num_heads)(x, encoder_outputs)\n",
    "    x = Dropout(0.5)(x)\n",
    "    decoder_outputs = Dense(vocab_size, activation=\"softmax\")(x)\n",
    "    transformer = keras.Model([encoder_inputs, decoder_inputs], decoder_outputs)"
   ]
  },
  {
   "cell_type": "code",
   "execution_count": 21,
   "id": "ffbe1ee2",
   "metadata": {
    "_kg_hide-input": true,
    "execution": {
     "iopub.execute_input": "2024-12-03T14:33:59.030432Z",
     "iopub.status.busy": "2024-12-03T14:33:59.030154Z",
     "iopub.status.idle": "2024-12-03T14:34:00.134954Z",
     "shell.execute_reply": "2024-12-03T14:34:00.133917Z"
    },
    "papermill": {
     "duration": 1.115549,
     "end_time": "2024-12-03T14:34:00.137304",
     "exception": false,
     "start_time": "2024-12-03T14:33:59.021755",
     "status": "completed"
    },
    "tags": []
   },
   "outputs": [
    {
     "data": {
      "image/png": "[encoded data removed]",
      "text/plain": [
       "<IPython.core.display.Image object>"
      ]
     },
     "execution_count": 21,
     "metadata": {},
     "output_type": "execute_result"
    }
   ],
   "source": [
    "from tensorflow.keras.utils import plot_model\n",
    "plot_model(transformer, to_file='transformer.png', show_shapes=True)\n",
    "from IPython.display import Image\n",
    "Image(\"transformer.png\")"
   ]
  },
  {
   "cell_type": "markdown",
   "id": "05b28bf4",
   "metadata": {
    "papermill": {
     "duration": 0.008131,
     "end_time": "2024-12-03T14:34:00.154211",
     "exception": false,
     "start_time": "2024-12-03T14:34:00.146080",
     "status": "completed"
    },
    "tags": []
   },
   "source": [
    "**Training the sequence-to-sequence Transformer**"
   ]
  },
  {
   "cell_type": "code",
   "execution_count": 22,
   "id": "fca124a5",
   "metadata": {
    "execution": {
     "iopub.execute_input": "2024-12-03T14:34:00.172023Z",
     "iopub.status.busy": "2024-12-03T14:34:00.171724Z",
     "iopub.status.idle": "2024-12-03T14:34:00.176024Z",
     "shell.execute_reply": "2024-12-03T14:34:00.175131Z"
    },
    "papermill": {
     "duration": 0.015468,
     "end_time": "2024-12-03T14:34:00.177896",
     "exception": false,
     "start_time": "2024-12-03T14:34:00.162428",
     "status": "completed"
    },
    "tags": []
   },
   "outputs": [],
   "source": [
    "EPOCHS = 130"
   ]
  },
  {
   "cell_type": "code",
   "execution_count": 23,
   "id": "e591400e",
   "metadata": {
    "execution": {
     "iopub.execute_input": "2024-12-03T14:34:00.195770Z",
     "iopub.status.busy": "2024-12-03T14:34:00.194979Z",
     "iopub.status.idle": "2024-12-03T14:34:00.200047Z",
     "shell.execute_reply": "2024-12-03T14:34:00.199219Z"
    },
    "papermill": {
     "duration": 0.01564,
     "end_time": "2024-12-03T14:34:00.201678",
     "exception": false,
     "start_time": "2024-12-03T14:34:00.186038",
     "status": "completed"
    },
    "tags": []
   },
   "outputs": [],
   "source": [
    "with strategy.scope():\n",
    "    checkpoint = ModelCheckpoint(filepath='language_translation_checkpoint.hdf5',\n",
    "                             save_weights_only=True,verbose=1,monitor='val_accuracy')"
   ]
  },
  {
   "cell_type": "code",
   "execution_count": 24,
   "id": "e96b48f6",
   "metadata": {
    "execution": {
     "iopub.execute_input": "2024-12-03T14:34:00.219134Z",
     "iopub.status.busy": "2024-12-03T14:34:00.218880Z",
     "iopub.status.idle": "2024-12-03T17:57:46.628286Z",
     "shell.execute_reply": "2024-12-03T17:57:46.627506Z"
    },
    "papermill": {
     "duration": 12226.420544,
     "end_time": "2024-12-03T17:57:46.630439",
     "exception": false,
     "start_time": "2024-12-03T14:34:00.209895",
     "status": "completed"
    },
    "tags": []
   },
   "outputs": [
    {
     "name": "stdout",
     "output_type": "stream",
     "text": [
      "Epoch 1/130\n",
      "1828/1828 [==============================] - 105s 51ms/step - loss: 1.5631 - accuracy: 0.4739 - val_loss: 1.1993 - val_accuracy: 0.5675\n",
      "\n",
      "Epoch 00001: saving model to language_translation_checkpoint.hdf5\n",
      "Epoch 2/130\n",
      "1828/1828 [==============================] - 93s 51ms/step - loss: 1.2234 - accuracy: 0.5817 - val_loss: 1.0604 - val_accuracy: 0.6157\n",
      "\n",
      "Epoch 00002: saving model to language_translation_checkpoint.hdf5\n",
      "Epoch 3/130\n",
      "1828/1828 [==============================] - 93s 51ms/step - loss: 1.0947 - accuracy: 0.6219 - val_loss: 1.0128 - val_accuracy: 0.6397\n",
      "\n",
      "Epoch 00003: saving model to language_translation_checkpoint.hdf5\n",
      "Epoch 4/130\n",
      "1828/1828 [==============================] - 93s 51ms/step - loss: 1.0397 - accuracy: 0.6457 - val_loss: 0.9860 - val_accuracy: 0.6537\n",
      "\n",
      "Epoch 00004: saving model to language_translation_checkpoint.hdf5\n",
      "Epoch 5/130\n",
      "1828/1828 [==============================] - 93s 51ms/step - loss: 1.0101 - accuracy: 0.6623 - val_loss: 0.9725 - val_accuracy: 0.6608\n",
      "\n",
      "Epoch 00005: saving model to language_translation_checkpoint.hdf5\n",
      "Epoch 6/130\n",
      "1828/1828 [==============================] - 93s 51ms/step - loss: 0.9887 - accuracy: 0.6751 - val_loss: 0.9697 - val_accuracy: 0.6663\n",
      "\n",
      "Epoch 00006: saving model to language_translation_checkpoint.hdf5\n",
      "Epoch 7/130\n",
      "1828/1828 [==============================] - 93s 51ms/step - loss: 0.9693 - accuracy: 0.6858 - val_loss: 0.9608 - val_accuracy: 0.6715\n",
      "\n",
      "Epoch 00007: saving model to language_translation_checkpoint.hdf5\n",
      "Epoch 8/130\n",
      "1828/1828 [==============================] - 93s 51ms/step - loss: 0.9519 - accuracy: 0.6952 - val_loss: 0.9570 - val_accuracy: 0.6762\n",
      "\n",
      "Epoch 00008: saving model to language_translation_checkpoint.hdf5\n",
      "Epoch 9/130\n",
      "1828/1828 [==============================] - 93s 51ms/step - loss: 0.9353 - accuracy: 0.7036 - val_loss: 0.9531 - val_accuracy: 0.6777\n",
      "\n",
      "Epoch 00009: saving model to language_translation_checkpoint.hdf5\n",
      "Epoch 10/130\n",
      "1828/1828 [==============================] - 93s 51ms/step - loss: 0.9203 - accuracy: 0.7106 - val_loss: 0.9518 - val_accuracy: 0.6823\n",
      "\n",
      "Epoch 00010: saving model to language_translation_checkpoint.hdf5\n",
      "Epoch 11/130\n",
      "1828/1828 [==============================] - 93s 51ms/step - loss: 0.9051 - accuracy: 0.7170 - val_loss: 0.9461 - val_accuracy: 0.6851\n",
      "\n",
      "Epoch 00011: saving model to language_translation_checkpoint.hdf5\n",
      "Epoch 12/130\n",
      "1828/1828 [==============================] - 93s 51ms/step - loss: 0.8904 - accuracy: 0.7231 - val_loss: 0.9427 - val_accuracy: 0.6887\n",
      "\n",
      "Epoch 00012: saving model to language_translation_checkpoint.hdf5\n",
      "Epoch 13/130\n",
      "1828/1828 [==============================] - 93s 51ms/step - loss: 0.8760 - accuracy: 0.7289 - val_loss: 0.9506 - val_accuracy: 0.6829\n",
      "\n",
      "Epoch 00013: saving model to language_translation_checkpoint.hdf5\n",
      "Epoch 14/130\n",
      "1828/1828 [==============================] - 93s 51ms/step - loss: 0.8628 - accuracy: 0.7338 - val_loss: 0.9460 - val_accuracy: 0.6897\n",
      "\n",
      "Epoch 00014: saving model to language_translation_checkpoint.hdf5\n",
      "Epoch 15/130\n",
      "1828/1828 [==============================] - 93s 51ms/step - loss: 0.8508 - accuracy: 0.7385 - val_loss: 0.9429 - val_accuracy: 0.6919\n",
      "\n",
      "Epoch 00015: saving model to language_translation_checkpoint.hdf5\n",
      "Epoch 16/130\n",
      "1828/1828 [==============================] - 93s 51ms/step - loss: 0.8388 - accuracy: 0.7431 - val_loss: 0.9494 - val_accuracy: 0.6884\n",
      "\n",
      "Epoch 00016: saving model to language_translation_checkpoint.hdf5\n",
      "Epoch 17/130\n",
      "1828/1828 [==============================] - 93s 51ms/step - loss: 0.8290 - accuracy: 0.7467 - val_loss: 0.9449 - val_accuracy: 0.6924\n",
      "\n",
      "Epoch 00017: saving model to language_translation_checkpoint.hdf5\n",
      "Epoch 18/130\n",
      "1828/1828 [==============================] - 93s 51ms/step - loss: 0.8182 - accuracy: 0.7506 - val_loss: 0.9526 - val_accuracy: 0.6917\n",
      "\n",
      "Epoch 00018: saving model to language_translation_checkpoint.hdf5\n",
      "Epoch 19/130\n",
      "1828/1828 [==============================] - 93s 51ms/step - loss: 0.8089 - accuracy: 0.7544 - val_loss: 0.9508 - val_accuracy: 0.6940\n",
      "\n",
      "Epoch 00019: saving model to language_translation_checkpoint.hdf5\n",
      "Epoch 20/130\n",
      "1828/1828 [==============================] - 93s 51ms/step - loss: 0.8002 - accuracy: 0.7575 - val_loss: 0.9499 - val_accuracy: 0.6947\n",
      "\n",
      "Epoch 00020: saving model to language_translation_checkpoint.hdf5\n",
      "Epoch 21/130\n",
      "1828/1828 [==============================] - 93s 51ms/step - loss: 0.7921 - accuracy: 0.7606 - val_loss: 0.9575 - val_accuracy: 0.6929\n",
      "\n",
      "Epoch 00021: saving model to language_translation_checkpoint.hdf5\n",
      "Epoch 22/130\n",
      "1828/1828 [==============================] - 93s 51ms/step - loss: 0.7843 - accuracy: 0.7636 - val_loss: 0.9658 - val_accuracy: 0.6908\n",
      "\n",
      "Epoch 00022: saving model to language_translation_checkpoint.hdf5\n",
      "Epoch 23/130\n",
      "1828/1828 [==============================] - 93s 51ms/step - loss: 0.7766 - accuracy: 0.7664 - val_loss: 0.9632 - val_accuracy: 0.6943\n",
      "\n",
      "Epoch 00023: saving model to language_translation_checkpoint.hdf5\n",
      "Epoch 24/130\n",
      "1828/1828 [==============================] - 93s 51ms/step - loss: 0.7706 - accuracy: 0.7689 - val_loss: 0.9684 - val_accuracy: 0.6927\n",
      "\n",
      "Epoch 00024: saving model to language_translation_checkpoint.hdf5\n",
      "Epoch 25/130\n",
      "1828/1828 [==============================] - 93s 51ms/step - loss: 0.7655 - accuracy: 0.7713 - val_loss: 0.9648 - val_accuracy: 0.6963\n",
      "\n",
      "Epoch 00025: saving model to language_translation_checkpoint.hdf5\n",
      "Epoch 26/130\n",
      "1828/1828 [==============================] - 93s 51ms/step - loss: 0.7623 - accuracy: 0.7730 - val_loss: 0.9758 - val_accuracy: 0.6949\n",
      "\n",
      "Epoch 00026: saving model to language_translation_checkpoint.hdf5\n",
      "Epoch 27/130\n",
      "1828/1828 [==============================] - 93s 51ms/step - loss: 0.7581 - accuracy: 0.7747 - val_loss: 0.9759 - val_accuracy: 0.6953\n",
      "\n",
      "Epoch 00027: saving model to language_translation_checkpoint.hdf5\n",
      "Epoch 28/130\n",
      "1828/1828 [==============================] - 93s 51ms/step - loss: 0.7529 - accuracy: 0.7773 - val_loss: 0.9862 - val_accuracy: 0.6955\n",
      "\n",
      "Epoch 00028: saving model to language_translation_checkpoint.hdf5\n",
      "Epoch 29/130\n",
      "1828/1828 [==============================] - 93s 51ms/step - loss: 0.7565 - accuracy: 0.7789 - val_loss: 0.9995 - val_accuracy: 0.6947\n",
      "\n",
      "Epoch 00029: saving model to language_translation_checkpoint.hdf5\n",
      "Epoch 30/130\n",
      "1828/1828 [==============================] - 93s 51ms/step - loss: 0.7479 - accuracy: 0.7816 - val_loss: 0.9971 - val_accuracy: 0.6940\n",
      "\n",
      "Epoch 00030: saving model to language_translation_checkpoint.hdf5\n",
      "Epoch 31/130\n",
      "1828/1828 [==============================] - 93s 51ms/step - loss: 0.7370 - accuracy: 0.7835 - val_loss: 0.9887 - val_accuracy: 0.6960\n",
      "\n",
      "Epoch 00031: saving model to language_translation_checkpoint.hdf5\n",
      "Epoch 32/130\n",
      "1828/1828 [==============================] - 93s 51ms/step - loss: 0.7265 - accuracy: 0.7857 - val_loss: 1.0018 - val_accuracy: 0.6932\n",
      "\n",
      "Epoch 00032: saving model to language_translation_checkpoint.hdf5\n",
      "Epoch 33/130\n",
      "1828/1828 [==============================] - 93s 51ms/step - loss: 0.7230 - accuracy: 0.7870 - val_loss: 1.0156 - val_accuracy: 0.6931\n",
      "\n",
      "Epoch 00033: saving model to language_translation_checkpoint.hdf5\n",
      "Epoch 34/130\n",
      "1828/1828 [==============================] - 93s 51ms/step - loss: 0.7167 - accuracy: 0.7889 - val_loss: 1.0114 - val_accuracy: 0.6926\n",
      "\n",
      "Epoch 00034: saving model to language_translation_checkpoint.hdf5\n",
      "Epoch 35/130\n",
      "1828/1828 [==============================] - 93s 51ms/step - loss: 0.7098 - accuracy: 0.7904 - val_loss: 0.9997 - val_accuracy: 0.6968\n",
      "\n",
      "Epoch 00035: saving model to language_translation_checkpoint.hdf5\n",
      "Epoch 36/130\n",
      "1828/1828 [==============================] - 93s 51ms/step - loss: 0.7009 - accuracy: 0.7926 - val_loss: 1.0170 - val_accuracy: 0.6918\n",
      "\n",
      "Epoch 00036: saving model to language_translation_checkpoint.hdf5\n",
      "Epoch 37/130\n",
      "1828/1828 [==============================] - 93s 51ms/step - loss: 0.6988 - accuracy: 0.7936 - val_loss: 1.0207 - val_accuracy: 0.6988\n",
      "\n",
      "Epoch 00037: saving model to language_translation_checkpoint.hdf5\n",
      "Epoch 38/130\n",
      "1828/1828 [==============================] - 93s 51ms/step - loss: 0.6956 - accuracy: 0.7946 - val_loss: 1.0220 - val_accuracy: 0.6968\n",
      "\n",
      "Epoch 00038: saving model to language_translation_checkpoint.hdf5\n",
      "Epoch 39/130\n",
      "1828/1828 [==============================] - 93s 51ms/step - loss: 0.6894 - accuracy: 0.7964 - val_loss: 1.0227 - val_accuracy: 0.6964\n",
      "\n",
      "Epoch 00039: saving model to language_translation_checkpoint.hdf5\n",
      "Epoch 40/130\n",
      "1828/1828 [==============================] - 93s 51ms/step - loss: 0.6840 - accuracy: 0.7979 - val_loss: 1.0177 - val_accuracy: 0.6964\n",
      "\n",
      "Epoch 00040: saving model to language_translation_checkpoint.hdf5\n",
      "Epoch 41/130\n",
      "1828/1828 [==============================] - 93s 51ms/step - loss: 0.6789 - accuracy: 0.7989 - val_loss: 1.0400 - val_accuracy: 0.6972\n",
      "\n",
      "Epoch 00041: saving model to language_translation_checkpoint.hdf5\n",
      "Epoch 42/130\n",
      "1828/1828 [==============================] - 93s 51ms/step - loss: 0.6780 - accuracy: 0.8001 - val_loss: 1.0338 - val_accuracy: 0.6962\n",
      "\n",
      "Epoch 00042: saving model to language_translation_checkpoint.hdf5\n",
      "Epoch 43/130\n",
      "1828/1828 [==============================] - 93s 51ms/step - loss: 0.6755 - accuracy: 0.8007 - val_loss: 1.0267 - val_accuracy: 0.6952\n",
      "\n",
      "Epoch 00043: saving model to language_translation_checkpoint.hdf5\n",
      "Epoch 44/130\n",
      "1828/1828 [==============================] - 93s 51ms/step - loss: 0.6708 - accuracy: 0.8024 - val_loss: 1.0384 - val_accuracy: 0.6923\n",
      "\n",
      "Epoch 00044: saving model to language_translation_checkpoint.hdf5\n",
      "Epoch 45/130\n",
      "1828/1828 [==============================] - 93s 51ms/step - loss: 0.6669 - accuracy: 0.8030 - val_loss: 1.0588 - val_accuracy: 0.6909\n",
      "\n",
      "Epoch 00045: saving model to language_translation_checkpoint.hdf5\n",
      "Epoch 46/130\n",
      "1828/1828 [==============================] - 93s 51ms/step - loss: 0.6620 - accuracy: 0.8045 - val_loss: 1.0457 - val_accuracy: 0.6960\n",
      "\n",
      "Epoch 00046: saving model to language_translation_checkpoint.hdf5\n",
      "Epoch 47/130\n",
      "1828/1828 [==============================] - 93s 51ms/step - loss: 0.6624 - accuracy: 0.8049 - val_loss: 1.0393 - val_accuracy: 0.6988\n",
      "\n",
      "Epoch 00047: saving model to language_translation_checkpoint.hdf5\n",
      "Epoch 48/130\n",
      "1828/1828 [==============================] - 93s 51ms/step - loss: 0.6599 - accuracy: 0.8060 - val_loss: 1.0560 - val_accuracy: 0.6955\n",
      "\n",
      "Epoch 00048: saving model to language_translation_checkpoint.hdf5\n",
      "Epoch 49/130\n",
      "1828/1828 [==============================] - 93s 51ms/step - loss: 0.6559 - accuracy: 0.8072 - val_loss: 1.0565 - val_accuracy: 0.6970\n",
      "\n",
      "Epoch 00049: saving model to language_translation_checkpoint.hdf5\n",
      "Epoch 50/130\n",
      "1828/1828 [==============================] - 93s 51ms/step - loss: 0.6523 - accuracy: 0.8081 - val_loss: 1.0563 - val_accuracy: 0.6944\n",
      "\n",
      "Epoch 00050: saving model to language_translation_checkpoint.hdf5\n",
      "Epoch 51/130\n",
      "1828/1828 [==============================] - 93s 51ms/step - loss: 0.6478 - accuracy: 0.8091 - val_loss: 1.0511 - val_accuracy: 0.6917\n",
      "\n",
      "Epoch 00051: saving model to language_translation_checkpoint.hdf5\n",
      "Epoch 52/130\n",
      "1828/1828 [==============================] - 93s 51ms/step - loss: 0.6474 - accuracy: 0.8100 - val_loss: 1.0739 - val_accuracy: 0.6919\n",
      "\n",
      "Epoch 00052: saving model to language_translation_checkpoint.hdf5\n",
      "Epoch 53/130\n",
      "1828/1828 [==============================] - 93s 51ms/step - loss: 0.6472 - accuracy: 0.8102 - val_loss: 1.0623 - val_accuracy: 0.6956\n",
      "\n",
      "Epoch 00053: saving model to language_translation_checkpoint.hdf5\n",
      "Epoch 54/130\n",
      "1828/1828 [==============================] - 93s 51ms/step - loss: 0.6428 - accuracy: 0.8113 - val_loss: 1.0596 - val_accuracy: 0.6983\n",
      "\n",
      "Epoch 00054: saving model to language_translation_checkpoint.hdf5\n",
      "Epoch 55/130\n",
      "1828/1828 [==============================] - 94s 51ms/step - loss: 0.6402 - accuracy: 0.8124 - val_loss: 1.0720 - val_accuracy: 0.6927\n",
      "\n",
      "Epoch 00055: saving model to language_translation_checkpoint.hdf5\n",
      "Epoch 56/130\n",
      "1828/1828 [==============================] - 93s 51ms/step - loss: 0.6365 - accuracy: 0.8134 - val_loss: 1.0771 - val_accuracy: 0.6958\n",
      "\n",
      "Epoch 00056: saving model to language_translation_checkpoint.hdf5\n",
      "Epoch 57/130\n",
      "1828/1828 [==============================] - 93s 51ms/step - loss: 0.6353 - accuracy: 0.8132 - val_loss: 1.0754 - val_accuracy: 0.6957\n",
      "\n",
      "Epoch 00057: saving model to language_translation_checkpoint.hdf5\n",
      "Epoch 58/130\n",
      "1828/1828 [==============================] - 94s 51ms/step - loss: 0.6362 - accuracy: 0.8140 - val_loss: 1.0816 - val_accuracy: 0.6932\n",
      "\n",
      "Epoch 00058: saving model to language_translation_checkpoint.hdf5\n",
      "Epoch 59/130\n",
      "1828/1828 [==============================] - 93s 51ms/step - loss: 0.6331 - accuracy: 0.8148 - val_loss: 1.0972 - val_accuracy: 0.6927\n",
      "\n",
      "Epoch 00059: saving model to language_translation_checkpoint.hdf5\n",
      "Epoch 60/130\n",
      "1828/1828 [==============================] - 93s 51ms/step - loss: 0.6301 - accuracy: 0.8155 - val_loss: 1.0965 - val_accuracy: 0.6913\n",
      "\n",
      "Epoch 00060: saving model to language_translation_checkpoint.hdf5\n",
      "Epoch 61/130\n",
      "1828/1828 [==============================] - 93s 51ms/step - loss: 0.6283 - accuracy: 0.8160 - val_loss: 1.0867 - val_accuracy: 0.6953\n",
      "\n",
      "Epoch 00061: saving model to language_translation_checkpoint.hdf5\n",
      "Epoch 62/130\n",
      "1828/1828 [==============================] - 93s 51ms/step - loss: 0.6245 - accuracy: 0.8170 - val_loss: 1.0786 - val_accuracy: 0.6941\n",
      "\n",
      "Epoch 00062: saving model to language_translation_checkpoint.hdf5\n",
      "Epoch 63/130\n",
      "1828/1828 [==============================] - 93s 51ms/step - loss: 0.6249 - accuracy: 0.8175 - val_loss: 1.1029 - val_accuracy: 0.6910\n",
      "\n",
      "Epoch 00063: saving model to language_translation_checkpoint.hdf5\n",
      "Epoch 64/130\n",
      "1828/1828 [==============================] - 93s 51ms/step - loss: 0.6259 - accuracy: 0.8174 - val_loss: 1.1191 - val_accuracy: 0.6953\n",
      "\n",
      "Epoch 00064: saving model to language_translation_checkpoint.hdf5\n",
      "Epoch 65/130\n",
      "1828/1828 [==============================] - 93s 51ms/step - loss: 0.6224 - accuracy: 0.8184 - val_loss: 1.0872 - val_accuracy: 0.6957\n",
      "\n",
      "Epoch 00065: saving model to language_translation_checkpoint.hdf5\n",
      "Epoch 66/130\n",
      "1828/1828 [==============================] - 93s 51ms/step - loss: 0.6199 - accuracy: 0.8190 - val_loss: 1.1078 - val_accuracy: 0.6937\n",
      "\n",
      "Epoch 00066: saving model to language_translation_checkpoint.hdf5\n",
      "Epoch 67/130\n",
      "1828/1828 [==============================] - 93s 51ms/step - loss: 0.6183 - accuracy: 0.8196 - val_loss: 1.0981 - val_accuracy: 0.6924\n",
      "\n",
      "Epoch 00067: saving model to language_translation_checkpoint.hdf5\n",
      "Epoch 68/130\n",
      "1828/1828 [==============================] - 93s 51ms/step - loss: 0.6154 - accuracy: 0.8200 - val_loss: 1.1106 - val_accuracy: 0.6926\n",
      "\n",
      "Epoch 00068: saving model to language_translation_checkpoint.hdf5\n",
      "Epoch 69/130\n",
      "1828/1828 [==============================] - 93s 51ms/step - loss: 0.6157 - accuracy: 0.8202 - val_loss: 1.1061 - val_accuracy: 0.6928\n",
      "\n",
      "Epoch 00069: saving model to language_translation_checkpoint.hdf5\n",
      "Epoch 70/130\n",
      "1828/1828 [==============================] - 93s 51ms/step - loss: 0.6166 - accuracy: 0.8204 - val_loss: 1.1127 - val_accuracy: 0.6937\n",
      "\n",
      "Epoch 00070: saving model to language_translation_checkpoint.hdf5\n",
      "Epoch 71/130\n",
      "1828/1828 [==============================] - 93s 51ms/step - loss: 0.6141 - accuracy: 0.8210 - val_loss: 1.1209 - val_accuracy: 0.6961\n",
      "\n",
      "Epoch 00071: saving model to language_translation_checkpoint.hdf5\n",
      "Epoch 72/130\n",
      "1828/1828 [==============================] - 93s 51ms/step - loss: 0.6119 - accuracy: 0.8215 - val_loss: 1.1258 - val_accuracy: 0.6932\n",
      "\n",
      "Epoch 00072: saving model to language_translation_checkpoint.hdf5\n",
      "Epoch 73/130\n",
      "1828/1828 [==============================] - 93s 51ms/step - loss: 0.6095 - accuracy: 0.8221 - val_loss: 1.1214 - val_accuracy: 0.6945\n",
      "\n",
      "Epoch 00073: saving model to language_translation_checkpoint.hdf5\n",
      "Epoch 74/130\n",
      "1828/1828 [==============================] - 93s 51ms/step - loss: 0.6076 - accuracy: 0.8224 - val_loss: 1.1170 - val_accuracy: 0.6932\n",
      "\n",
      "Epoch 00074: saving model to language_translation_checkpoint.hdf5\n",
      "Epoch 75/130\n",
      "1828/1828 [==============================] - 93s 51ms/step - loss: 0.6090 - accuracy: 0.8227 - val_loss: 1.1270 - val_accuracy: 0.6920\n",
      "\n",
      "Epoch 00075: saving model to language_translation_checkpoint.hdf5\n",
      "Epoch 76/130\n",
      "1828/1828 [==============================] - 93s 51ms/step - loss: 0.6098 - accuracy: 0.8227 - val_loss: 1.1379 - val_accuracy: 0.6937\n",
      "\n",
      "Epoch 00076: saving model to language_translation_checkpoint.hdf5\n",
      "Epoch 77/130\n",
      "1828/1828 [==============================] - 93s 51ms/step - loss: 0.6076 - accuracy: 0.8232 - val_loss: 1.1331 - val_accuracy: 0.6948\n",
      "\n",
      "Epoch 00077: saving model to language_translation_checkpoint.hdf5\n",
      "Epoch 78/130\n",
      "1828/1828 [==============================] - 93s 51ms/step - loss: 0.6055 - accuracy: 0.8239 - val_loss: 1.1226 - val_accuracy: 0.6935\n",
      "\n",
      "Epoch 00078: saving model to language_translation_checkpoint.hdf5\n",
      "Epoch 79/130\n",
      "1828/1828 [==============================] - 94s 51ms/step - loss: 0.6044 - accuracy: 0.8239 - val_loss: 1.1247 - val_accuracy: 0.6888\n",
      "\n",
      "Epoch 00079: saving model to language_translation_checkpoint.hdf5\n",
      "Epoch 80/130\n",
      "1828/1828 [==============================] - 93s 51ms/step - loss: 0.6018 - accuracy: 0.8243 - val_loss: 1.1161 - val_accuracy: 0.6950\n",
      "\n",
      "Epoch 00080: saving model to language_translation_checkpoint.hdf5\n",
      "Epoch 81/130\n",
      "1828/1828 [==============================] - 93s 51ms/step - loss: 0.6027 - accuracy: 0.8247 - val_loss: 1.1581 - val_accuracy: 0.6920\n",
      "\n",
      "Epoch 00081: saving model to language_translation_checkpoint.hdf5\n",
      "Epoch 82/130\n",
      "1828/1828 [==============================] - 93s 51ms/step - loss: 0.6043 - accuracy: 0.8247 - val_loss: 1.1390 - val_accuracy: 0.6945\n",
      "\n",
      "Epoch 00082: saving model to language_translation_checkpoint.hdf5\n",
      "Epoch 83/130\n",
      "1828/1828 [==============================] - 93s 51ms/step - loss: 0.6030 - accuracy: 0.8244 - val_loss: 1.1218 - val_accuracy: 0.6971\n",
      "\n",
      "Epoch 00083: saving model to language_translation_checkpoint.hdf5\n",
      "Epoch 84/130\n",
      "1828/1828 [==============================] - 94s 51ms/step - loss: 0.6011 - accuracy: 0.8254 - val_loss: 1.1299 - val_accuracy: 0.6945\n",
      "\n",
      "Epoch 00084: saving model to language_translation_checkpoint.hdf5\n",
      "Epoch 85/130\n",
      "1828/1828 [==============================] - 94s 51ms/step - loss: 0.6002 - accuracy: 0.8251 - val_loss: 1.1700 - val_accuracy: 0.6924\n",
      "\n",
      "Epoch 00085: saving model to language_translation_checkpoint.hdf5\n",
      "Epoch 86/130\n",
      "1828/1828 [==============================] - 94s 51ms/step - loss: 0.5983 - accuracy: 0.8255 - val_loss: 1.1327 - val_accuracy: 0.6961\n",
      "\n",
      "Epoch 00086: saving model to language_translation_checkpoint.hdf5\n",
      "Epoch 87/130\n",
      "1828/1828 [==============================] - 93s 51ms/step - loss: 0.5980 - accuracy: 0.8257 - val_loss: 1.1468 - val_accuracy: 0.6894\n",
      "\n",
      "Epoch 00087: saving model to language_translation_checkpoint.hdf5\n",
      "Epoch 88/130\n",
      "1828/1828 [==============================] - 94s 51ms/step - loss: 0.6014 - accuracy: 0.8254 - val_loss: 1.1388 - val_accuracy: 0.6916\n",
      "\n",
      "Epoch 00088: saving model to language_translation_checkpoint.hdf5\n",
      "Epoch 89/130\n",
      "1828/1828 [==============================] - 93s 51ms/step - loss: 0.6007 - accuracy: 0.8256 - val_loss: 1.1361 - val_accuracy: 0.6939\n",
      "\n",
      "Epoch 00089: saving model to language_translation_checkpoint.hdf5\n",
      "Epoch 90/130\n",
      "1828/1828 [==============================] - 93s 51ms/step - loss: 0.6000 - accuracy: 0.8255 - val_loss: 1.1342 - val_accuracy: 0.6922\n",
      "\n",
      "Epoch 00090: saving model to language_translation_checkpoint.hdf5\n",
      "Epoch 91/130\n",
      "1828/1828 [==============================] - 93s 51ms/step - loss: 0.5982 - accuracy: 0.8262 - val_loss: 1.1455 - val_accuracy: 0.6912\n",
      "\n",
      "Epoch 00091: saving model to language_translation_checkpoint.hdf5\n",
      "Epoch 92/130\n",
      "1828/1828 [==============================] - 94s 51ms/step - loss: 0.5968 - accuracy: 0.8263 - val_loss: 1.1541 - val_accuracy: 0.6896\n",
      "\n",
      "Epoch 00092: saving model to language_translation_checkpoint.hdf5\n",
      "Epoch 93/130\n",
      "1828/1828 [==============================] - 93s 51ms/step - loss: 0.5952 - accuracy: 0.8266 - val_loss: 1.1500 - val_accuracy: 0.6934\n",
      "\n",
      "Epoch 00093: saving model to language_translation_checkpoint.hdf5\n",
      "Epoch 94/130\n",
      "1828/1828 [==============================] - 93s 51ms/step - loss: 0.5979 - accuracy: 0.8266 - val_loss: 1.1824 - val_accuracy: 0.6921\n",
      "\n",
      "Epoch 00094: saving model to language_translation_checkpoint.hdf5\n",
      "Epoch 95/130\n",
      "1828/1828 [==============================] - 93s 51ms/step - loss: 0.5992 - accuracy: 0.8257 - val_loss: 1.1726 - val_accuracy: 0.6882\n",
      "\n",
      "Epoch 00095: saving model to language_translation_checkpoint.hdf5\n",
      "Epoch 96/130\n",
      "1828/1828 [==============================] - 94s 51ms/step - loss: 0.5978 - accuracy: 0.8264 - val_loss: 1.1627 - val_accuracy: 0.6923\n",
      "\n",
      "Epoch 00096: saving model to language_translation_checkpoint.hdf5\n",
      "Epoch 97/130\n",
      "1828/1828 [==============================] - 93s 51ms/step - loss: 0.5965 - accuracy: 0.8266 - val_loss: 1.1776 - val_accuracy: 0.6898\n",
      "\n",
      "Epoch 00097: saving model to language_translation_checkpoint.hdf5\n",
      "Epoch 98/130\n",
      "1828/1828 [==============================] - 93s 51ms/step - loss: 0.5949 - accuracy: 0.8269 - val_loss: 1.1333 - val_accuracy: 0.6926\n",
      "\n",
      "Epoch 00098: saving model to language_translation_checkpoint.hdf5\n",
      "Epoch 99/130\n",
      "1828/1828 [==============================] - 94s 51ms/step - loss: 0.5932 - accuracy: 0.8271 - val_loss: 1.1683 - val_accuracy: 0.6908\n",
      "\n",
      "Epoch 00099: saving model to language_translation_checkpoint.hdf5\n",
      "Epoch 100/130\n",
      "1828/1828 [==============================] - 93s 51ms/step - loss: 0.5946 - accuracy: 0.8270 - val_loss: 1.1842 - val_accuracy: 0.6897\n",
      "\n",
      "Epoch 00100: saving model to language_translation_checkpoint.hdf5\n",
      "Epoch 101/130\n",
      "1828/1828 [==============================] - 93s 51ms/step - loss: 0.5974 - accuracy: 0.8269 - val_loss: 1.1817 - val_accuracy: 0.6884\n",
      "\n",
      "Epoch 00101: saving model to language_translation_checkpoint.hdf5\n",
      "Epoch 102/130\n",
      "1828/1828 [==============================] - 94s 51ms/step - loss: 0.5960 - accuracy: 0.8271 - val_loss: 1.1584 - val_accuracy: 0.6898\n",
      "\n",
      "Epoch 00102: saving model to language_translation_checkpoint.hdf5\n",
      "Epoch 103/130\n",
      "1828/1828 [==============================] - 93s 51ms/step - loss: 0.5947 - accuracy: 0.8271 - val_loss: 1.1646 - val_accuracy: 0.6906\n",
      "\n",
      "Epoch 00103: saving model to language_translation_checkpoint.hdf5\n",
      "Epoch 104/130\n",
      "1828/1828 [==============================] - 94s 51ms/step - loss: 0.5938 - accuracy: 0.8273 - val_loss: 1.1794 - val_accuracy: 0.6907\n",
      "\n",
      "Epoch 00104: saving model to language_translation_checkpoint.hdf5\n",
      "Epoch 105/130\n",
      "1828/1828 [==============================] - 93s 51ms/step - loss: 0.5928 - accuracy: 0.8278 - val_loss: 1.1617 - val_accuracy: 0.6901\n",
      "\n",
      "Epoch 00105: saving model to language_translation_checkpoint.hdf5\n",
      "Epoch 106/130\n",
      "1828/1828 [==============================] - 93s 51ms/step - loss: 0.5904 - accuracy: 0.8286 - val_loss: 1.1972 - val_accuracy: 0.6850\n",
      "\n",
      "Epoch 00106: saving model to language_translation_checkpoint.hdf5\n",
      "Epoch 107/130\n",
      "1828/1828 [==============================] - 93s 51ms/step - loss: 0.5924 - accuracy: 0.8280 - val_loss: 1.1655 - val_accuracy: 0.6884\n",
      "\n",
      "Epoch 00107: saving model to language_translation_checkpoint.hdf5\n",
      "Epoch 108/130\n",
      "1828/1828 [==============================] - 93s 51ms/step - loss: 0.5937 - accuracy: 0.8281 - val_loss: 1.1655 - val_accuracy: 0.6881\n",
      "\n",
      "Epoch 00108: saving model to language_translation_checkpoint.hdf5\n",
      "Epoch 109/130\n",
      "1828/1828 [==============================] - 93s 51ms/step - loss: 0.5918 - accuracy: 0.8284 - val_loss: 1.1853 - val_accuracy: 0.6834\n",
      "\n",
      "Epoch 00109: saving model to language_translation_checkpoint.hdf5\n",
      "Epoch 110/130\n",
      "1828/1828 [==============================] - 93s 51ms/step - loss: 0.5904 - accuracy: 0.8287 - val_loss: 1.1714 - val_accuracy: 0.6904\n",
      "\n",
      "Epoch 00110: saving model to language_translation_checkpoint.hdf5\n",
      "Epoch 111/130\n",
      "1828/1828 [==============================] - 93s 51ms/step - loss: 0.5892 - accuracy: 0.8289 - val_loss: 1.1725 - val_accuracy: 0.6877\n",
      "\n",
      "Epoch 00111: saving model to language_translation_checkpoint.hdf5\n",
      "Epoch 112/130\n",
      "1828/1828 [==============================] - 93s 51ms/step - loss: 0.5886 - accuracy: 0.8290 - val_loss: 1.1836 - val_accuracy: 0.6876\n",
      "\n",
      "Epoch 00112: saving model to language_translation_checkpoint.hdf5\n",
      "Epoch 113/130\n",
      "1828/1828 [==============================] - 93s 51ms/step - loss: 0.5877 - accuracy: 0.8290 - val_loss: 1.1595 - val_accuracy: 0.6886\n",
      "\n",
      "Epoch 00113: saving model to language_translation_checkpoint.hdf5\n",
      "Epoch 114/130\n",
      "1828/1828 [==============================] - 93s 51ms/step - loss: 0.5904 - accuracy: 0.8293 - val_loss: 1.1378 - val_accuracy: 0.6867\n",
      "\n",
      "Epoch 00114: saving model to language_translation_checkpoint.hdf5\n",
      "Epoch 115/130\n",
      "1828/1828 [==============================] - 94s 51ms/step - loss: 0.5917 - accuracy: 0.8286 - val_loss: 1.1544 - val_accuracy: 0.6924\n",
      "\n",
      "Epoch 00115: saving model to language_translation_checkpoint.hdf5\n",
      "Epoch 116/130\n",
      "1828/1828 [==============================] - 93s 51ms/step - loss: 0.5894 - accuracy: 0.8292 - val_loss: 1.2182 - val_accuracy: 0.6910\n",
      "\n",
      "Epoch 00116: saving model to language_translation_checkpoint.hdf5\n",
      "Epoch 117/130\n",
      "1828/1828 [==============================] - 93s 51ms/step - loss: 0.5880 - accuracy: 0.8296 - val_loss: 1.1688 - val_accuracy: 0.6891\n",
      "\n",
      "Epoch 00117: saving model to language_translation_checkpoint.hdf5\n",
      "Epoch 118/130\n",
      "1828/1828 [==============================] - 93s 51ms/step - loss: 0.5883 - accuracy: 0.8293 - val_loss: 1.1756 - val_accuracy: 0.6863\n",
      "\n",
      "Epoch 00118: saving model to language_translation_checkpoint.hdf5\n",
      "Epoch 119/130\n",
      "1828/1828 [==============================] - 93s 51ms/step - loss: 0.5869 - accuracy: 0.8294 - val_loss: 1.1364 - val_accuracy: 0.6914\n",
      "\n",
      "Epoch 00119: saving model to language_translation_checkpoint.hdf5\n",
      "Epoch 120/130\n",
      "1828/1828 [==============================] - 93s 51ms/step - loss: 0.5865 - accuracy: 0.8299 - val_loss: 1.1641 - val_accuracy: 0.6876\n",
      "\n",
      "Epoch 00120: saving model to language_translation_checkpoint.hdf5\n",
      "Epoch 121/130\n",
      "1828/1828 [==============================] - 93s 51ms/step - loss: 0.5905 - accuracy: 0.8294 - val_loss: 1.1793 - val_accuracy: 0.6897\n",
      "\n",
      "Epoch 00121: saving model to language_translation_checkpoint.hdf5\n",
      "Epoch 122/130\n",
      "1828/1828 [==============================] - 93s 51ms/step - loss: 0.5884 - accuracy: 0.8300 - val_loss: 1.1926 - val_accuracy: 0.6890\n",
      "\n",
      "Epoch 00122: saving model to language_translation_checkpoint.hdf5\n",
      "Epoch 123/130\n",
      "1828/1828 [==============================] - 93s 51ms/step - loss: 0.5867 - accuracy: 0.8301 - val_loss: 1.1919 - val_accuracy: 0.6853\n",
      "\n",
      "Epoch 00123: saving model to language_translation_checkpoint.hdf5\n",
      "Epoch 124/130\n",
      "1828/1828 [==============================] - 93s 51ms/step - loss: 0.5854 - accuracy: 0.8306 - val_loss: 1.1698 - val_accuracy: 0.6858\n",
      "\n",
      "Epoch 00124: saving model to language_translation_checkpoint.hdf5\n",
      "Epoch 125/130\n",
      "1828/1828 [==============================] - 93s 51ms/step - loss: 0.5844 - accuracy: 0.8305 - val_loss: 1.1660 - val_accuracy: 0.6885\n",
      "\n",
      "Epoch 00125: saving model to language_translation_checkpoint.hdf5\n",
      "Epoch 126/130\n",
      "1828/1828 [==============================] - 93s 51ms/step - loss: 0.5833 - accuracy: 0.8307 - val_loss: 1.1754 - val_accuracy: 0.6886\n",
      "\n",
      "Epoch 00126: saving model to language_translation_checkpoint.hdf5\n",
      "Epoch 127/130\n",
      "1828/1828 [==============================] - 93s 51ms/step - loss: 0.5817 - accuracy: 0.8315 - val_loss: 1.1971 - val_accuracy: 0.6877\n",
      "\n",
      "Epoch 00127: saving model to language_translation_checkpoint.hdf5\n",
      "Epoch 128/130\n",
      "1828/1828 [==============================] - 93s 51ms/step - loss: 0.5851 - accuracy: 0.8313 - val_loss: 1.2064 - val_accuracy: 0.6910\n",
      "\n",
      "Epoch 00128: saving model to language_translation_checkpoint.hdf5\n",
      "Epoch 129/130\n",
      "1828/1828 [==============================] - 93s 51ms/step - loss: 0.5850 - accuracy: 0.8310 - val_loss: 1.1822 - val_accuracy: 0.6909\n",
      "\n",
      "Epoch 00129: saving model to language_translation_checkpoint.hdf5\n",
      "Epoch 130/130\n",
      "1828/1828 [==============================] - 94s 51ms/step - loss: 0.5840 - accuracy: 0.8314 - val_loss: 1.1975 - val_accuracy: 0.6883\n",
      "\n",
      "Epoch 00130: saving model to language_translation_checkpoint.hdf5\n"
     ]
    }
   ],
   "source": [
    "with strategy.scope():\n",
    "    transformer.compile(\n",
    "    optimizer=\"rmsprop\",\n",
    "    loss=\"sparse_categorical_crossentropy\",\n",
    "    metrics=[\"accuracy\"])\n",
    "\n",
    "\n",
    "    transformer.fit(train_ds, epochs=EPOCHS,callbacks=[checkpoint], validation_data=val_ds)"
   ]
  },
  {
   "cell_type": "code",
   "execution_count": 25,
   "id": "1269adae",
   "metadata": {
    "execution": {
     "iopub.execute_input": "2024-12-03T17:57:57.699788Z",
     "iopub.status.busy": "2024-12-03T17:57:57.699361Z",
     "iopub.status.idle": "2024-12-03T17:57:57.706998Z",
     "shell.execute_reply": "2024-12-03T17:57:57.706169Z"
    },
    "papermill": {
     "duration": 5.549357,
     "end_time": "2024-12-03T17:57:57.708732",
     "exception": false,
     "start_time": "2024-12-03T17:57:52.159375",
     "status": "completed"
    },
    "tags": []
   },
   "outputs": [],
   "source": [
    "# saving model achitecture in json file\n",
    "model_json = transformer.to_json()\n",
    "with open(\"translator.json\", \"w\") as json_file:\n",
    "    json_file.write(model_json)"
   ]
  },
  {
   "cell_type": "raw",
   "id": "4b0e7bf5",
   "metadata": {
    "papermill": {
     "duration": 5.324742,
     "end_time": "2024-12-03T17:58:08.680062",
     "exception": false,
     "start_time": "2024-12-03T17:58:03.355320",
     "status": "completed"
    },
    "tags": []
   },
   "source": [
    "transformer.save_weights(\"translator.h5\")\n",
    "load_status = transformer.load_weights(\"translator.h5\")"
   ]
  },
  {
   "cell_type": "markdown",
   "id": "9da378b7",
   "metadata": {
    "papermill": {
     "duration": 5.541826,
     "end_time": "2024-12-03T17:58:19.883062",
     "exception": false,
     "start_time": "2024-12-03T17:58:14.341236",
     "status": "completed"
    },
    "tags": []
   },
   "source": [
    "**Translating new sentences with our Transformer model**"
   ]
  },
  {
   "cell_type": "code",
   "execution_count": 26,
   "id": "e3c707da",
   "metadata": {
    "execution": {
     "iopub.execute_input": "2024-12-03T17:58:30.901337Z",
     "iopub.status.busy": "2024-12-03T17:58:30.900996Z",
     "iopub.status.idle": "2024-12-03T17:58:30.931277Z",
     "shell.execute_reply": "2024-12-03T17:58:30.930378Z"
    },
    "papermill": {
     "duration": 5.500917,
     "end_time": "2024-12-03T17:58:30.933387",
     "exception": false,
     "start_time": "2024-12-03T17:58:25.432470",
     "status": "completed"
    },
    "tags": []
   },
   "outputs": [],
   "source": [
    "fra_vocab = target_vectorization.get_vocabulary()\n",
    "fra_index_lookup = dict(zip(range(len(fra_vocab)), fra_vocab))\n",
    "max_decoded_sentence_length = 20"
   ]
  },
  {
   "cell_type": "markdown",
   "id": "e4c71667",
   "metadata": {
    "papermill": {
     "duration": 5.381598,
     "end_time": "2024-12-03T17:58:41.959945",
     "exception": false,
     "start_time": "2024-12-03T17:58:36.578347",
     "status": "completed"
    },
    "tags": []
   },
   "source": [
    "### Output Testing and Decoding the output sequence"
   ]
  },
  {
   "cell_type": "code",
   "execution_count": 27,
   "id": "e5ff70c3",
   "metadata": {
    "execution": {
     "iopub.execute_input": "2024-12-03T17:58:53.277289Z",
     "iopub.status.busy": "2024-12-03T17:58:53.276950Z",
     "iopub.status.idle": "2024-12-03T17:58:53.282797Z",
     "shell.execute_reply": "2024-12-03T17:58:53.282012Z"
    },
    "papermill": {
     "duration": 5.597011,
     "end_time": "2024-12-03T17:58:53.284754",
     "exception": false,
     "start_time": "2024-12-03T17:58:47.687743",
     "status": "completed"
    },
    "tags": []
   },
   "outputs": [],
   "source": [
    "def decode_sequence(input_sentence):\n",
    "    tokenized_input_sentence = source_vectorization([input_sentence])\n",
    "    decoded_sentence = \"[start]\"\n",
    "    for i in range(max_decoded_sentence_length):\n",
    "        tokenized_target_sentence = target_vectorization(\n",
    "            [decoded_sentence])[:, :-1]\n",
    "        predictions = transformer(\n",
    "            [tokenized_input_sentence, tokenized_target_sentence])\n",
    "        sampled_token_index = np.argmax(predictions[0, i, :])\n",
    "        sampled_token = fra_index_lookup[sampled_token_index]\n",
    "        decoded_sentence += \" \" + sampled_token\n",
    "        if sampled_token == \"[end]\":\n",
    "            break\n",
    "    return decoded_sentence"
   ]
  },
  {
   "cell_type": "markdown",
   "id": "91a3aa7c",
   "metadata": {
    "papermill": {
     "duration": 5.744816,
     "end_time": "2024-12-03T17:59:04.400309",
     "exception": false,
     "start_time": "2024-12-03T17:58:58.655493",
     "status": "completed"
    },
    "tags": []
   },
   "source": [
    "### Transformer translating output"
   ]
  },
  {
   "cell_type": "code",
   "execution_count": 28,
   "id": "38567f38",
   "metadata": {
    "execution": {
     "iopub.execute_input": "2024-12-03T17:59:15.385997Z",
     "iopub.status.busy": "2024-12-03T17:59:15.385637Z",
     "iopub.status.idle": "2024-12-03T17:59:16.732370Z",
     "shell.execute_reply": "2024-12-03T17:59:16.731551Z"
    },
    "papermill": {
     "duration": 6.996944,
     "end_time": "2024-12-03T17:59:16.734124",
     "exception": false,
     "start_time": "2024-12-03T17:59:09.737180",
     "status": "completed"
    },
    "tags": []
   },
   "outputs": [
    {
     "name": "stdout",
     "output_type": "stream",
     "text": [
      "-\n",
      "Can I touch it?\n",
      "[start] puisje y [UNK] [end]\n",
      "-\n",
      "They have everything they need.\n",
      "[start] ils ont tout ce quils ont besoin [end]\n",
      "-\n",
      "Please put the chair away. It is in the way.\n",
      "[start] mets la chaise sur la chaise sil te plait [end]\n",
      "-\n",
      "If I knew how to use a computer, maybe they would pay me more.\n",
      "[start] si je savais comme utiliser un ordinateur il se [UNK] peutêtre de davantage [end]\n",
      "-\n",
      "I brought dinner.\n",
      "[start] jai amené un dîner [end]\n"
     ]
    }
   ],
   "source": [
    "test_eng_texts = [pair[0] for pair in test_pairs]\n",
    "for _ in range(5):\n",
    "    input_sentence = random.choice(test_eng_texts)\n",
    "    print(\"-\")\n",
    "    print(input_sentence)\n",
    "    print(decode_sequence(input_sentence))"
   ]
  },
  {
   "cell_type": "markdown",
   "id": "f11d8808",
   "metadata": {
    "papermill": {
     "duration": 5.409729,
     "end_time": "2024-12-03T17:59:27.681700",
     "exception": false,
     "start_time": "2024-12-03T17:59:22.271971",
     "status": "completed"
    },
    "tags": []
   },
   "source": [
    "# Evaluation using the BLEU score"
   ]
  },
  {
   "cell_type": "code",
   "execution_count": 29,
   "id": "a80dfc96",
   "metadata": {
    "execution": {
     "iopub.execute_input": "2024-12-03T17:59:38.774860Z",
     "iopub.status.busy": "2024-12-03T17:59:38.774487Z",
     "iopub.status.idle": "2024-12-03T17:59:43.785496Z",
     "shell.execute_reply": "2024-12-03T17:59:43.784748Z"
    },
    "papermill": {
     "duration": 10.33747,
     "end_time": "2024-12-03T17:59:43.787247",
     "exception": false,
     "start_time": "2024-12-03T17:59:33.449777",
     "status": "completed"
    },
    "tags": []
   },
   "outputs": [
    {
     "name": "stdout",
     "output_type": "stream",
     "text": [
      "[start] ils ont juste [UNK] [end] [start] ils viennent de partir. [end]\n",
      "Score:0.36363636363636365\n"
     ]
    },
    {
     "name": "stderr",
     "output_type": "stream",
     "text": [
      "/opt/conda/lib/python3.7/site-packages/nltk/translate/bleu_score.py:552: UserWarning: \n",
      "The hypothesis contains 0 counts of 2-gram overlaps.\n",
      "Therefore the BLEU score evaluates to 0, independently of\n",
      "how many N-gram overlaps of lower order it contains.\n",
      "Consider using lower n-gram order or use SmoothingFunction()\n",
      "  warnings.warn(_msg)\n",
      "/opt/conda/lib/python3.7/site-packages/nltk/translate/bleu_score.py:552: UserWarning: \n",
      "The hypothesis contains 0 counts of 3-gram overlaps.\n",
      "Therefore the BLEU score evaluates to 0, independently of\n",
      "how many N-gram overlaps of lower order it contains.\n",
      "Consider using lower n-gram order or use SmoothingFunction()\n",
      "  warnings.warn(_msg)\n",
      "/opt/conda/lib/python3.7/site-packages/nltk/translate/bleu_score.py:552: UserWarning: \n",
      "The hypothesis contains 0 counts of 4-gram overlaps.\n",
      "Therefore the BLEU score evaluates to 0, independently of\n",
      "how many N-gram overlaps of lower order it contains.\n",
      "Consider using lower n-gram order or use SmoothingFunction()\n",
      "  warnings.warn(_msg)\n"
     ]
    },
    {
     "name": "stdout",
     "output_type": "stream",
     "text": [
      "[start] nous y sommes arrivée avant midi [end] [start] nous y arrivâmes avant midi. [end]\n",
      "Score:0.3478260869565218\n",
      "[start] vous êtes très [UNK] [end] [start] tu es fort avisée. [end]\n",
      "Score:0.38235294117647056\n",
      "[start] elle a dit au revoir [end] [start] elle a dit \"au revoir\". [end]\n",
      "Score:0.4411764705882353\n",
      "[start] il a fait ce quil a promis [end] [start] il fit ce qu'il promit de faire pour moi. [end]\n",
      "Score:0.475\n",
      "[start] jai fait ce que je crois [end] [start] j'ai fait ce qui me semblait être juste. [end]\n",
      "Score:0.42105263157894735\n",
      "[start] le président [UNK] [end] [start] le président a aboli l'esclavage. [end]\n",
      "Score:0.4375\n",
      "[start] vous vous vous vous vous vous vous vous plaindre [end] [start] tu te sentiras mieux dans quelques heures. [end]\n",
      "Score:0.20967741935483875\n",
      "[start] sa maison est au pied de la montagne [end] [start] sa maison est au pied d'une montagne. [end]\n",
      "Score:0.32\n",
      "[start] je navais pas de mal [end] [start] je ne pensais pas à mal. [end]\n",
      "Score:0.4411764705882353\n",
      "[start] soyez plus gentil avec votre sœur [end] [start] soyez plus gentille avec votre sœur. [end]\n",
      "Score:0.44680851063829785\n",
      "[start] quand je suis sorti de la voiture que javais comme javais lieu auparavant [end] [start] lorsque je suis sorti de la voiture, j'ai senti que j'avais été là auparavant. [end]\n",
      "Score:0.20689655172413796\n",
      "[start] pensezvous que nous devrions démissionner le bateau [end] [start] pensez-vous que nous dussions abandonner le navire ? [end]\n",
      "Score:0.2923076923076923\n",
      "[start] merci davoir votre explication [UNK] [end] [start] merci pour votre explication détaillée. [end]\n",
      "Score:0.36\n",
      "[start] comment [UNK] ton nom de famille  [end] [start] comment épelez-vous votre nom de famille ? [end]\n",
      "Score:0.3617021276595745\n",
      "[start] je cherche un soit un je [end] [start] je recherche un assistant. [end]\n",
      "Score:0.39473684210526316\n",
      "[start] tu mas donné cette photo il y a longtemps un [UNK] [end] [start] tu m'as donné ce tableau, il y a longtemps. [end]\n",
      "Score:0.3125\n",
      "[start] je nai jamais pensé que ce serait facile à vivre à ton affaire [end] [start] je n'ai jamais pensé qu'il serait aussi facile de pénétrer ton site web. [end]\n",
      "Score:0.27631578947368424\n",
      "[start] je déteste ce livre [end] [start] je déteste ce bouquin. [end]\n",
      "Score:0.42424242424242425\n",
      "[start] son nom ne vous a pas [UNK] [end] [start] son nom ne se trouvait pas sur la liste. [end]\n",
      "Score:0.3658536585365854\n",
      "\n",
      "BLEU score : 7.28/20\n"
     ]
    }
   ],
   "source": [
    "test_eng_texts = [pair[0] for pair in test_pairs]\n",
    "test_fra_texts = [pair[1] for pair in test_pairs]\n",
    "score = 0\n",
    "bleu  = 0\n",
    "for i in range(20):\n",
    "    candidate = decode_sequence(test_eng_texts[i])\n",
    "    reference = test_fra_texts[i].lower()\n",
    "    print(candidate,reference)\n",
    "    score = sentence_bleu(reference, candidate, weights=(1, 0, 0, 0))\n",
    "    bleu+=score\n",
    "    print(f\"Score:{score}\")\n",
    "print(f\"\\nBLEU score : {round(bleu,2)}/20\")\n",
    "    "
   ]
  },
  {
   "cell_type": "markdown",
   "id": "8aae5a38",
   "metadata": {
    "papermill": {
     "duration": 5.711949,
     "end_time": "2024-12-03T17:59:55.209706",
     "exception": false,
     "start_time": "2024-12-03T17:59:49.497757",
     "status": "completed"
    },
    "tags": []
   },
   "source": [
    "## Summary"
   ]
  },
  {
   "cell_type": "markdown",
   "id": "1da41b63",
   "metadata": {
    "papermill": {
     "duration": 5.788326,
     "end_time": "2024-12-03T18:00:06.414922",
     "exception": false,
     "start_time": "2024-12-03T18:00:00.626596",
     "status": "completed"
    },
    "tags": []
   },
   "source": [
    "* Thus Transformer model is implemented for translating English to france.\n",
    "* BLEU score is the metrics used to evaluate the performance of the tranformer in translating the language."
   ]
  }
 ],
 "metadata": {
  "kaggle": {
   "accelerator": "nvidiaTeslaT4",
   "dataSources": [
    {
     "datasetId": 3019642,
     "sourceId": 5193333,
     "sourceType": "datasetVersion"
    }
   ],
   "dockerImageVersionId": 30262,
   "isGpuEnabled": true,
   "isInternetEnabled": true,
   "language": "python",
   "sourceType": "notebook"
  },
  "kernelspec": {
   "display_name": "Python 3",
   "language": "python",
   "name": "python3"
  },
  "language_info": {
   "codemirror_mode": {
    "name": "ipython",
    "version": 3
   },
   "file_extension": ".py",
   "mimetype": "text/x-python",
   "name": "python",
   "nbconvert_exporter": "python",
   "pygments_lexer": "ipython3",
   "version": "3.7.12"
  },
  "papermill": {
   "default_parameters": {},
   "duration": 12410.3063,
   "end_time": "2024-12-03T18:00:15.765724",
   "environment_variables": {},
   "exception": null,
   "input_path": "__notebook__.ipynb",
   "output_path": "__notebook__.ipynb",
   "parameters": {},
   "start_time": "2024-12-03T14:33:25.459424",
   "version": "2.3.4"
  }
 },
 "nbformat": 4,
 "nbformat_minor": 5
}
